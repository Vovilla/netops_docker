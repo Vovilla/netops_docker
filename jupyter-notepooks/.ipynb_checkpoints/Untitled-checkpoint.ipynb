{
 "cells": [
  {
   "cell_type": "code",
   "execution_count": null,
   "id": "0132b51b-9454-4beb-8efe-d4dd9877c794",
   "metadata": {},
   "outputs": [],
   "source": [
    "#inventory\n",
    "[all]\n",
    "localhost"
   ]
  },
  {
   "cell_type": "code",
   "execution_count": null,
   "id": "a5cfe74f-33b4-4b6d-8eb0-dd9ad95f21da",
   "metadata": {},
   "outputs": [],
   "source": [
    "#play\n",
    "name: Hello World\n",
    "hosts: localhost\n",
    "gather_facts: false"
   ]
  },
  {
   "cell_type": "code",
   "execution_count": null,
   "id": "75b9c89f-318e-4c4f-bf16-a1bbbd2d4b9d",
   "metadata": {},
   "outputs": [],
   "source": [
    "#task\n",
    "debug:\n",
    "  msg: Hello World"
   ]
  },
  {
   "cell_type": "code",
   "execution_count": null,
   "id": "bd11beec-7d0a-49d5-82c2-91a9f6e719ff",
   "metadata": {},
   "outputs": [],
   "source": []
  }
 ],
 "metadata": {
  "kernelspec": {
   "display_name": "Ansible",
   "language": "ansible",
   "name": "ansible"
  },
  "language_info": {
   "codemirror_mode": "yaml",
   "file_extension": ".yml",
   "mimetype": "text/yaml",
   "name": "ansible"
  }
 },
 "nbformat": 4,
 "nbformat_minor": 5
}
